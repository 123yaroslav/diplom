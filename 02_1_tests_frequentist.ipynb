{
 "cells": [
  {
   "cell_type": "code",
   "execution_count": 1,
   "id": "4622c08e",
   "metadata": {},
   "outputs": [],
   "source": [
    "import numpy as np\n",
    "import pandas as pd\n",
    "import matplotlib.pyplot as plt \n",
    "import warnings\n",
    "warnings.filterwarnings(\"ignore\")\n",
    "import json\n",
    "\n",
    "import pymc as pm\n",
    "import arviz as az\n",
    "import causalpy \n",
    "import seaborn as sns\n",
    "from patsy import build_design_matrices, dmatrices\n",
    "from sklearn.metrics import roc_auc_score\n",
    "from tqdm import tqdm\n",
    "from tqdm_joblib import tqdm_joblib\n",
    "\n",
    "from library.synthetic_control_best import *\n",
    "from joblib import Parallel, delayed\n",
    "\n",
    "\n",
    "plt.style.use('ggplot')"
   ]
  },
  {
   "cell_type": "code",
   "execution_count": 10,
   "id": "0761ae3b",
   "metadata": {},
   "outputs": [],
   "source": [
    "real_data = pd.read_parquet('data/data.pt')\n",
    "model = 'SyntheticControl'"
   ]
  },
  {
   "cell_type": "code",
   "execution_count": 11,
   "id": "812bbca2",
   "metadata": {},
   "outputs": [],
   "source": [
    "def run_synthetic_control_simulation(metric: str,\n",
    "                                     model: str = \"SyntheticControl\",\n",
    "                                     real_data: pd.DataFrame = real_data,\n",
    "                                     T0: int = 70,\n",
    "                                     T1: int = 90,\n",
    "                                     bootstrap_rounds: int = 100,\n",
    "                                     effect_sizes: list = [0.05, 0.10, 0.15, 0.20],\n",
    "                                     output_dir: str = \"results\"):\n",
    "\n",
    "    df = real_data.rename(columns={'shopno': 'unit', metric: 'y'})[['unit', 'time', 'y']]\n",
    "    template = df.copy()\n",
    "    units = df['unit'].unique()\n",
    "\n",
    "    def simulate_type1(unit):\n",
    "        data_sim = template.copy()\n",
    "        data_sim['treated'] = data_sim['unit'] == unit\n",
    "        data_sim['after_treatment'] = data_sim['time'] >= T0\n",
    "\n",
    "        sc = SyntheticControl(\n",
    "            data=data_sim, metric=\"y\", period_index=\"time\",\n",
    "            shopno=\"unit\", treated=\"treated\",\n",
    "            after_treatment=\"after_treatment\",\n",
    "            bootstrap_rounds=bootstrap_rounds, seed=42\n",
    "        )\n",
    "        att, opt_w = sc.synthetic_control()\n",
    "        se, ci_low, ci_high = sc.estimate_se_sc(alpha=0.05)\n",
    "        is_fp = (ci_low > 0) or (ci_high < 0)\n",
    "        return abs(att), is_fp, se\n",
    "\n",
    "    def simulate_type2(unit, effect_size):\n",
    "        data_sim = template.copy()\n",
    "        data_sim['treated'] = data_sim['unit'] == unit\n",
    "        data_sim['after_treatment'] = data_sim['time'] >= T0\n",
    "\n",
    "        mask = (\n",
    "            (data_sim['unit'] == unit) &\n",
    "            (data_sim['time'] >= T0) &\n",
    "            (data_sim['time'] <= T1)\n",
    "        )\n",
    "        data_sim.loc[mask, 'y'] *= (1 - effect_size)\n",
    "\n",
    "        sc = SyntheticControl(\n",
    "            data=data_sim, metric=\"y\", period_index=\"time\",\n",
    "            shopno=\"unit\", treated=\"treated\",\n",
    "            after_treatment=\"after_treatment\",\n",
    "            bootstrap_rounds=bootstrap_rounds, seed=42\n",
    "        )\n",
    "        att, opt_w = sc.synthetic_control()\n",
    "        _, ci_low, ci_high = sc.estimate_se_sc(alpha=0.05)\n",
    "        is_fn = not ((ci_low > 0) or (ci_high < 0))\n",
    "        return abs(att), is_fn\n",
    "\n",
    "    print(\"=== Type I error (no treatment effect) ===\")\n",
    "    type1_out = Parallel(n_jobs=-1)(\n",
    "        delayed(simulate_type1)(u) for u in tqdm(units, desc=\"Type I sims\")\n",
    "    )\n",
    "    _, fp_flags, se = zip(*type1_out)\n",
    "    type1_error = sum(fp_flags) / len(units)\n",
    "    mean_se = np.mean(se)\n",
    "    print(f\"Type I error: {type1_error:.3f}, Mean se: {mean_se:.3f}\\n\")\n",
    "\n",
    "    results = []\n",
    "    for eff in effect_sizes:\n",
    "        print(f\"=== effect_size = {eff:.0%} ===\")\n",
    "        type2_out = Parallel(n_jobs=-1)(\n",
    "            delayed(simulate_type2)(u, eff) for u in tqdm(units, desc=f\"Type II sims {eff:.0%}\")\n",
    "        )\n",
    "        _, fn_flags = zip(*type2_out)\n",
    "        type2_error = sum(fn_flags) / len(units)\n",
    "        print(f\"Type II error: {type2_error:.3f}\\n\")\n",
    "\n",
    "        results.append({\n",
    "            \"effect_size\": eff,\n",
    "            \"type1_error\": type1_error,\n",
    "            \"type2_error\": type2_error,\n",
    "            \"mean_se\": mean_se\n",
    "        })\n",
    "\n",
    "    summary = pd.DataFrame(results)\n",
    "    print(\"=== Summary ===\")\n",
    "    print(summary.to_string(index=False))\n",
    "\n",
    "    result_dict = {\n",
    "        \"model\": model,\n",
    "        \"metric\": metric,\n",
    "        \"summary\": summary.to_dict(orient=\"records\")\n",
    "    }\n",
    "    filename = f\"{output_dir}/summary_{model}_{metric}.json\"\n",
    "    with open(filename, \"w\", encoding=\"utf-8\") as f:\n",
    "        json.dump(result_dict, f, ensure_ascii=False, indent=2)\n",
    "    print(f\"Результаты сохранены в {filename}\")\n",
    "\n",
    "    return summary\n"
   ]
  },
  {
   "cell_type": "code",
   "execution_count": null,
   "id": "cd47ddac",
   "metadata": {},
   "outputs": [
    {
     "name": "stdout",
     "output_type": "stream",
     "text": [
      "=== Type I error (no treatment effect) ===\n"
     ]
    },
    {
     "name": "stderr",
     "output_type": "stream",
     "text": [
      "Type I sims:  44%|████▍     | 40/90 [01:49<02:41,  3.23s/it]"
     ]
    }
   ],
   "source": [
    "run_synthetic_control_simulation(\n",
    "    metric=\"preprocessed_avg_delivery\",\n",
    "    model=\"SyntheticControl\",\n",
    "    real_data=real_data\n",
    ")"
   ]
  },
  {
   "cell_type": "code",
   "execution_count": 5,
   "id": "0cf307d6",
   "metadata": {},
   "outputs": [
    {
     "name": "stdout",
     "output_type": "stream",
     "text": [
      "=== Type I error (no treatment effect) ===\n"
     ]
    },
    {
     "name": "stderr",
     "output_type": "stream",
     "text": [
      "Type I sims: 100%|██████████| 90/90 [01:01<00:00,  1.47it/s]\n"
     ]
    },
    {
     "name": "stdout",
     "output_type": "stream",
     "text": [
      "Type I error: 0.033, Mean se: 1.099\n",
      "\n",
      "=== effect_size = 5% ===\n"
     ]
    },
    {
     "name": "stderr",
     "output_type": "stream",
     "text": [
      "Type II sims 5%: 100%|██████████| 90/90 [01:01<00:00,  1.47it/s]\n"
     ]
    },
    {
     "name": "stdout",
     "output_type": "stream",
     "text": [
      "Type II error: 0.900\n",
      "\n",
      "=== effect_size = 10% ===\n"
     ]
    },
    {
     "name": "stderr",
     "output_type": "stream",
     "text": [
      "Type II sims 10%: 100%|██████████| 90/90 [01:00<00:00,  1.48it/s]\n"
     ]
    },
    {
     "name": "stdout",
     "output_type": "stream",
     "text": [
      "Type II error: 0.611\n",
      "\n",
      "=== effect_size = 15% ===\n"
     ]
    },
    {
     "name": "stderr",
     "output_type": "stream",
     "text": [
      "Type II sims 15%: 100%|██████████| 90/90 [01:00<00:00,  1.48it/s]\n"
     ]
    },
    {
     "name": "stdout",
     "output_type": "stream",
     "text": [
      "Type II error: 0.244\n",
      "\n",
      "=== effect_size = 20% ===\n"
     ]
    },
    {
     "name": "stderr",
     "output_type": "stream",
     "text": [
      "Type II sims 20%: 100%|██████████| 90/90 [01:01<00:00,  1.46it/s]\n"
     ]
    },
    {
     "name": "stdout",
     "output_type": "stream",
     "text": [
      "Type II error: 0.056\n",
      "\n",
      "=== Summary ===\n",
      " effect_size  type1_error  type2_error  mean_se\n",
      "        0.05     0.033333     0.900000 1.098505\n",
      "        0.10     0.033333     0.611111 1.098505\n",
      "        0.15     0.033333     0.244444 1.098505\n",
      "        0.20     0.033333     0.055556 1.098505\n",
      "Результаты сохранены в results/summary_SyntheticControl_preprocessed_orders_per_courier.json\n"
     ]
    },
    {
     "data": {
      "text/html": [
       "<div>\n",
       "<style scoped>\n",
       "    .dataframe tbody tr th:only-of-type {\n",
       "        vertical-align: middle;\n",
       "    }\n",
       "\n",
       "    .dataframe tbody tr th {\n",
       "        vertical-align: top;\n",
       "    }\n",
       "\n",
       "    .dataframe thead th {\n",
       "        text-align: right;\n",
       "    }\n",
       "</style>\n",
       "<table border=\"1\" class=\"dataframe\">\n",
       "  <thead>\n",
       "    <tr style=\"text-align: right;\">\n",
       "      <th></th>\n",
       "      <th>effect_size</th>\n",
       "      <th>type1_error</th>\n",
       "      <th>type2_error</th>\n",
       "      <th>mean_se</th>\n",
       "    </tr>\n",
       "  </thead>\n",
       "  <tbody>\n",
       "    <tr>\n",
       "      <th>0</th>\n",
       "      <td>0.05</td>\n",
       "      <td>0.033333</td>\n",
       "      <td>0.900000</td>\n",
       "      <td>1.098505</td>\n",
       "    </tr>\n",
       "    <tr>\n",
       "      <th>1</th>\n",
       "      <td>0.10</td>\n",
       "      <td>0.033333</td>\n",
       "      <td>0.611111</td>\n",
       "      <td>1.098505</td>\n",
       "    </tr>\n",
       "    <tr>\n",
       "      <th>2</th>\n",
       "      <td>0.15</td>\n",
       "      <td>0.033333</td>\n",
       "      <td>0.244444</td>\n",
       "      <td>1.098505</td>\n",
       "    </tr>\n",
       "    <tr>\n",
       "      <th>3</th>\n",
       "      <td>0.20</td>\n",
       "      <td>0.033333</td>\n",
       "      <td>0.055556</td>\n",
       "      <td>1.098505</td>\n",
       "    </tr>\n",
       "  </tbody>\n",
       "</table>\n",
       "</div>"
      ],
      "text/plain": [
       "   effect_size  type1_error  type2_error   mean_se\n",
       "0         0.05     0.033333     0.900000  1.098505\n",
       "1         0.10     0.033333     0.611111  1.098505\n",
       "2         0.15     0.033333     0.244444  1.098505\n",
       "3         0.20     0.033333     0.055556  1.098505"
      ]
     },
     "execution_count": 5,
     "metadata": {},
     "output_type": "execute_result"
    }
   ],
   "source": [
    "run_synthetic_control_simulation(\n",
    "    metric=\"preprocessed_orders_per_courier\",\n",
    "    model=\"SyntheticControl\",\n",
    "    real_data=real_data\n",
    ")"
   ]
  },
  {
   "cell_type": "code",
   "execution_count": 6,
   "id": "ff5e1069",
   "metadata": {},
   "outputs": [
    {
     "name": "stdout",
     "output_type": "stream",
     "text": [
      "=== Type I error (no treatment effect) ===\n"
     ]
    },
    {
     "name": "stderr",
     "output_type": "stream",
     "text": [
      "Type I sims: 100%|██████████| 90/90 [01:56<00:00,  1.29s/it]\n"
     ]
    },
    {
     "name": "stdout",
     "output_type": "stream",
     "text": [
      "Type I error: 0.100, Mean se: 0.067\n",
      "\n",
      "=== effect_size = 5% ===\n"
     ]
    },
    {
     "name": "stderr",
     "output_type": "stream",
     "text": [
      "Type II sims 5%: 100%|██████████| 90/90 [01:56<00:00,  1.29s/it]\n"
     ]
    },
    {
     "name": "stdout",
     "output_type": "stream",
     "text": [
      "Type II error: 0.922\n",
      "\n",
      "=== effect_size = 10% ===\n"
     ]
    },
    {
     "name": "stderr",
     "output_type": "stream",
     "text": [
      "Type II sims 10%: 100%|██████████| 90/90 [01:56<00:00,  1.29s/it]\n"
     ]
    },
    {
     "name": "stdout",
     "output_type": "stream",
     "text": [
      "Type II error: 0.456\n",
      "\n",
      "=== effect_size = 15% ===\n"
     ]
    },
    {
     "name": "stderr",
     "output_type": "stream",
     "text": [
      "Type II sims 15%: 100%|██████████| 90/90 [01:56<00:00,  1.29s/it]\n"
     ]
    },
    {
     "name": "stdout",
     "output_type": "stream",
     "text": [
      "Type II error: 0.033\n",
      "\n",
      "=== effect_size = 20% ===\n"
     ]
    },
    {
     "name": "stderr",
     "output_type": "stream",
     "text": [
      "Type II sims 20%: 100%|██████████| 90/90 [01:56<00:00,  1.30s/it]\n"
     ]
    },
    {
     "name": "stdout",
     "output_type": "stream",
     "text": [
      "Type II error: 0.000\n",
      "\n",
      "=== Summary ===\n",
      " effect_size  type1_error  type2_error  mean_se\n",
      "        0.05          0.1     0.922222 0.067414\n",
      "        0.10          0.1     0.455556 0.067414\n",
      "        0.15          0.1     0.033333 0.067414\n",
      "        0.20          0.1     0.000000 0.067414\n",
      "Результаты сохранены в results/summary_SyntheticControl_preprocessed_distance.json\n"
     ]
    },
    {
     "data": {
      "text/html": [
       "<div>\n",
       "<style scoped>\n",
       "    .dataframe tbody tr th:only-of-type {\n",
       "        vertical-align: middle;\n",
       "    }\n",
       "\n",
       "    .dataframe tbody tr th {\n",
       "        vertical-align: top;\n",
       "    }\n",
       "\n",
       "    .dataframe thead th {\n",
       "        text-align: right;\n",
       "    }\n",
       "</style>\n",
       "<table border=\"1\" class=\"dataframe\">\n",
       "  <thead>\n",
       "    <tr style=\"text-align: right;\">\n",
       "      <th></th>\n",
       "      <th>effect_size</th>\n",
       "      <th>type1_error</th>\n",
       "      <th>type2_error</th>\n",
       "      <th>mean_se</th>\n",
       "    </tr>\n",
       "  </thead>\n",
       "  <tbody>\n",
       "    <tr>\n",
       "      <th>0</th>\n",
       "      <td>0.05</td>\n",
       "      <td>0.1</td>\n",
       "      <td>0.922222</td>\n",
       "      <td>0.067414</td>\n",
       "    </tr>\n",
       "    <tr>\n",
       "      <th>1</th>\n",
       "      <td>0.10</td>\n",
       "      <td>0.1</td>\n",
       "      <td>0.455556</td>\n",
       "      <td>0.067414</td>\n",
       "    </tr>\n",
       "    <tr>\n",
       "      <th>2</th>\n",
       "      <td>0.15</td>\n",
       "      <td>0.1</td>\n",
       "      <td>0.033333</td>\n",
       "      <td>0.067414</td>\n",
       "    </tr>\n",
       "    <tr>\n",
       "      <th>3</th>\n",
       "      <td>0.20</td>\n",
       "      <td>0.1</td>\n",
       "      <td>0.000000</td>\n",
       "      <td>0.067414</td>\n",
       "    </tr>\n",
       "  </tbody>\n",
       "</table>\n",
       "</div>"
      ],
      "text/plain": [
       "   effect_size  type1_error  type2_error   mean_se\n",
       "0         0.05          0.1     0.922222  0.067414\n",
       "1         0.10          0.1     0.455556  0.067414\n",
       "2         0.15          0.1     0.033333  0.067414\n",
       "3         0.20          0.1     0.000000  0.067414"
      ]
     },
     "execution_count": 6,
     "metadata": {},
     "output_type": "execute_result"
    }
   ],
   "source": [
    "run_synthetic_control_simulation(\n",
    "    metric=\"preprocessed_distance\",\n",
    "    model=\"SyntheticControl\",\n",
    "    real_data=real_data\n",
    ")"
   ]
  },
  {
   "cell_type": "code",
   "execution_count": 7,
   "id": "483694f2",
   "metadata": {},
   "outputs": [
    {
     "name": "stdout",
     "output_type": "stream",
     "text": [
      "=== Type I error (no treatment effect) ===\n"
     ]
    },
    {
     "name": "stderr",
     "output_type": "stream",
     "text": [
      "Type I sims: 100%|██████████| 90/90 [01:22<00:00,  1.08it/s]\n"
     ]
    },
    {
     "name": "stdout",
     "output_type": "stream",
     "text": [
      "Type I error: 0.067, Mean se: 0.070\n",
      "\n",
      "=== effect_size = 5% ===\n"
     ]
    },
    {
     "name": "stderr",
     "output_type": "stream",
     "text": [
      "Type II sims 5%: 100%|██████████| 90/90 [01:23<00:00,  1.08it/s]\n"
     ]
    },
    {
     "name": "stdout",
     "output_type": "stream",
     "text": [
      "Type II error: 0.856\n",
      "\n",
      "=== effect_size = 10% ===\n"
     ]
    },
    {
     "name": "stderr",
     "output_type": "stream",
     "text": [
      "Type II sims 10%: 100%|██████████| 90/90 [01:25<00:00,  1.05it/s]\n"
     ]
    },
    {
     "name": "stdout",
     "output_type": "stream",
     "text": [
      "Type II error: 0.556\n",
      "\n",
      "=== effect_size = 15% ===\n"
     ]
    },
    {
     "name": "stderr",
     "output_type": "stream",
     "text": [
      "Type II sims 15%: 100%|██████████| 90/90 [01:26<00:00,  1.05it/s]\n"
     ]
    },
    {
     "name": "stdout",
     "output_type": "stream",
     "text": [
      "Type II error: 0.156\n",
      "\n",
      "=== effect_size = 20% ===\n"
     ]
    },
    {
     "name": "stderr",
     "output_type": "stream",
     "text": [
      "Type II sims 20%: 100%|██████████| 90/90 [01:24<00:00,  1.06it/s]\n"
     ]
    },
    {
     "name": "stdout",
     "output_type": "stream",
     "text": [
      "Type II error: 0.022\n",
      "\n",
      "=== Summary ===\n",
      " effect_size  type1_error  type2_error  mean_se\n",
      "        0.05     0.066667     0.855556 0.069506\n",
      "        0.10     0.066667     0.555556 0.069506\n",
      "        0.15     0.066667     0.155556 0.069506\n",
      "        0.20     0.066667     0.022222 0.069506\n",
      "Результаты сохранены в results/summary_SyntheticControl_preprocessed_avg_collection_time.json\n"
     ]
    },
    {
     "data": {
      "text/html": [
       "<div>\n",
       "<style scoped>\n",
       "    .dataframe tbody tr th:only-of-type {\n",
       "        vertical-align: middle;\n",
       "    }\n",
       "\n",
       "    .dataframe tbody tr th {\n",
       "        vertical-align: top;\n",
       "    }\n",
       "\n",
       "    .dataframe thead th {\n",
       "        text-align: right;\n",
       "    }\n",
       "</style>\n",
       "<table border=\"1\" class=\"dataframe\">\n",
       "  <thead>\n",
       "    <tr style=\"text-align: right;\">\n",
       "      <th></th>\n",
       "      <th>effect_size</th>\n",
       "      <th>type1_error</th>\n",
       "      <th>type2_error</th>\n",
       "      <th>mean_se</th>\n",
       "    </tr>\n",
       "  </thead>\n",
       "  <tbody>\n",
       "    <tr>\n",
       "      <th>0</th>\n",
       "      <td>0.05</td>\n",
       "      <td>0.066667</td>\n",
       "      <td>0.855556</td>\n",
       "      <td>0.069506</td>\n",
       "    </tr>\n",
       "    <tr>\n",
       "      <th>1</th>\n",
       "      <td>0.10</td>\n",
       "      <td>0.066667</td>\n",
       "      <td>0.555556</td>\n",
       "      <td>0.069506</td>\n",
       "    </tr>\n",
       "    <tr>\n",
       "      <th>2</th>\n",
       "      <td>0.15</td>\n",
       "      <td>0.066667</td>\n",
       "      <td>0.155556</td>\n",
       "      <td>0.069506</td>\n",
       "    </tr>\n",
       "    <tr>\n",
       "      <th>3</th>\n",
       "      <td>0.20</td>\n",
       "      <td>0.066667</td>\n",
       "      <td>0.022222</td>\n",
       "      <td>0.069506</td>\n",
       "    </tr>\n",
       "  </tbody>\n",
       "</table>\n",
       "</div>"
      ],
      "text/plain": [
       "   effect_size  type1_error  type2_error   mean_se\n",
       "0         0.05     0.066667     0.855556  0.069506\n",
       "1         0.10     0.066667     0.555556  0.069506\n",
       "2         0.15     0.066667     0.155556  0.069506\n",
       "3         0.20     0.066667     0.022222  0.069506"
      ]
     },
     "execution_count": 7,
     "metadata": {},
     "output_type": "execute_result"
    }
   ],
   "source": [
    "run_synthetic_control_simulation(\n",
    "    metric=\"preprocessed_avg_collection_time\",\n",
    "    model=\"SyntheticControl\",\n",
    "    real_data=real_data\n",
    ")"
   ]
  },
  {
   "cell_type": "code",
   "execution_count": 8,
   "id": "27b36a05",
   "metadata": {},
   "outputs": [
    {
     "name": "stdout",
     "output_type": "stream",
     "text": [
      "=== Type I error (no treatment effect) ===\n"
     ]
    },
    {
     "name": "stderr",
     "output_type": "stream",
     "text": [
      "Type I sims: 100%|██████████| 90/90 [01:12<00:00,  1.24it/s]\n"
     ]
    },
    {
     "name": "stdout",
     "output_type": "stream",
     "text": [
      "Type I error: 0.100, Mean se: 0.636\n",
      "\n",
      "=== effect_size = 5% ===\n"
     ]
    },
    {
     "name": "stderr",
     "output_type": "stream",
     "text": [
      "Type II sims 5%: 100%|██████████| 90/90 [01:11<00:00,  1.25it/s]\n"
     ]
    },
    {
     "name": "stdout",
     "output_type": "stream",
     "text": [
      "Type II error: 0.911\n",
      "\n",
      "=== effect_size = 10% ===\n"
     ]
    },
    {
     "name": "stderr",
     "output_type": "stream",
     "text": [
      "Type II sims 10%: 100%|██████████| 90/90 [01:14<00:00,  1.21it/s]\n"
     ]
    },
    {
     "name": "stdout",
     "output_type": "stream",
     "text": [
      "Type II error: 0.933\n",
      "\n",
      "=== effect_size = 15% ===\n"
     ]
    },
    {
     "name": "stderr",
     "output_type": "stream",
     "text": [
      "Type II sims 15%: 100%|██████████| 90/90 [01:10<00:00,  1.29it/s]\n"
     ]
    },
    {
     "name": "stdout",
     "output_type": "stream",
     "text": [
      "Type II error: 0.944\n",
      "\n",
      "=== effect_size = 20% ===\n"
     ]
    },
    {
     "name": "stderr",
     "output_type": "stream",
     "text": [
      "Type II sims 20%: 100%|██████████| 90/90 [01:11<00:00,  1.26it/s]\n"
     ]
    },
    {
     "name": "stdout",
     "output_type": "stream",
     "text": [
      "Type II error: 0.922\n",
      "\n",
      "=== Summary ===\n",
      " effect_size  type1_error  type2_error  mean_se\n",
      "        0.05          0.1     0.911111 0.635863\n",
      "        0.10          0.1     0.933333 0.635863\n",
      "        0.15          0.1     0.944444 0.635863\n",
      "        0.20          0.1     0.922222 0.635863\n",
      "Результаты сохранены в results/summary_SyntheticControl_preprocessed_percent_late.json\n"
     ]
    },
    {
     "data": {
      "text/html": [
       "<div>\n",
       "<style scoped>\n",
       "    .dataframe tbody tr th:only-of-type {\n",
       "        vertical-align: middle;\n",
       "    }\n",
       "\n",
       "    .dataframe tbody tr th {\n",
       "        vertical-align: top;\n",
       "    }\n",
       "\n",
       "    .dataframe thead th {\n",
       "        text-align: right;\n",
       "    }\n",
       "</style>\n",
       "<table border=\"1\" class=\"dataframe\">\n",
       "  <thead>\n",
       "    <tr style=\"text-align: right;\">\n",
       "      <th></th>\n",
       "      <th>effect_size</th>\n",
       "      <th>type1_error</th>\n",
       "      <th>type2_error</th>\n",
       "      <th>mean_se</th>\n",
       "    </tr>\n",
       "  </thead>\n",
       "  <tbody>\n",
       "    <tr>\n",
       "      <th>0</th>\n",
       "      <td>0.05</td>\n",
       "      <td>0.1</td>\n",
       "      <td>0.911111</td>\n",
       "      <td>0.635863</td>\n",
       "    </tr>\n",
       "    <tr>\n",
       "      <th>1</th>\n",
       "      <td>0.10</td>\n",
       "      <td>0.1</td>\n",
       "      <td>0.933333</td>\n",
       "      <td>0.635863</td>\n",
       "    </tr>\n",
       "    <tr>\n",
       "      <th>2</th>\n",
       "      <td>0.15</td>\n",
       "      <td>0.1</td>\n",
       "      <td>0.944444</td>\n",
       "      <td>0.635863</td>\n",
       "    </tr>\n",
       "    <tr>\n",
       "      <th>3</th>\n",
       "      <td>0.20</td>\n",
       "      <td>0.1</td>\n",
       "      <td>0.922222</td>\n",
       "      <td>0.635863</td>\n",
       "    </tr>\n",
       "  </tbody>\n",
       "</table>\n",
       "</div>"
      ],
      "text/plain": [
       "   effect_size  type1_error  type2_error   mean_se\n",
       "0         0.05          0.1     0.911111  0.635863\n",
       "1         0.10          0.1     0.933333  0.635863\n",
       "2         0.15          0.1     0.944444  0.635863\n",
       "3         0.20          0.1     0.922222  0.635863"
      ]
     },
     "execution_count": 8,
     "metadata": {},
     "output_type": "execute_result"
    }
   ],
   "source": [
    "run_synthetic_control_simulation(\n",
    "    metric=\"preprocessed_percent_late\",\n",
    "    model=\"SyntheticControl\",\n",
    "    real_data=real_data\n",
    ")"
   ]
  }
 ],
 "metadata": {
  "kernelspec": {
   "display_name": "Python 3",
   "language": "python",
   "name": "python3"
  },
  "language_info": {
   "codemirror_mode": {
    "name": "ipython",
    "version": 3
   },
   "file_extension": ".py",
   "mimetype": "text/x-python",
   "name": "python",
   "nbconvert_exporter": "python",
   "pygments_lexer": "ipython3",
   "version": "3.10.12"
  }
 },
 "nbformat": 4,
 "nbformat_minor": 5
}
